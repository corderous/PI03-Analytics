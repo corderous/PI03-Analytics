{
 "cells": [
  {
   "cell_type": "markdown",
   "metadata": {},
   "source": [
    "Se eligio conectar a la API que ofrece infomarcion con paginacion para traer informacion entre rangos de fechas. Para este ejercicio se elegiron las bases \"Trades\" y \"Historical Prices\". Estas bases no presentan informacion nula. Se trabajo con los campos High, Low, Open, Close y Date en la base \"Historical Prices\" y con los campos Side, Size y Time en la base \"Trades\". En ambos casos se importo la importo y transformo la informacion de las acciones elegidas y posteriormente se anexo las consultas en una nueva base para manejas multiples acciones mediante slicers."
   ]
  },
  {
   "cell_type": "code",
   "execution_count": 3,
   "metadata": {},
   "outputs": [],
   "source": [
    "from hashlib import sha256\n",
    "import time\n",
    "import hmac\n",
    "from requests import Request\n",
    "\n",
    "ts = int(time.time() * 1000)\n",
    "request = Request('GET', 'https://ftx.com/api/markets/AAPL/USD/trades')\n",
    "prepared = request.prepare()\n",
    "signature_payload = f'{ts}{prepared.method}{prepared.path_url}'.encode()\n",
    "signature = hmac.new('5UbAJ4oQEUL4Y8fx4JrSSR9T4D5e7GiMv3qbFwG3'.encode(), signature_payload, 'sha256').hexdigest()\n",
    "\n",
    "prepared.headers['FTX-KEY'] = '4gY92fSaOh41tdTHf_ofjqAYlaQGZt4Ni-EIQS94'\n",
    "prepared.headers['FTX-SIGN'] = signature\n",
    "prepared.headers['FXT-TS'] = str(ts)"
   ]
  },
  {
   "cell_type": "code",
   "execution_count": null,
   "metadata": {},
   "outputs": [],
   "source": [
    "''' \n",
    "FTX-KEY\n",
    "4gY92fSaOh41tdTHf_ofjqAYlaQGZt4Ni-EIQS94\n",
    "FTX-SIGN\n",
    "adbd376781ee47792a4d8ab8292ae4f91ad58452c5b5e295cb57b381fea4dd2f\n",
    "FXT-TS\n",
    "1664271103587\n",
    "'''"
   ]
  },
  {
   "cell_type": "code",
   "execution_count": 14,
   "metadata": {},
   "outputs": [
    {
     "data": {
      "text/plain": [
       "'1664271103587'"
      ]
     },
     "execution_count": 14,
     "metadata": {},
     "output_type": "execute_result"
    }
   ],
   "source": [
    "str(ts)"
   ]
  },
  {
   "cell_type": "code",
   "execution_count": 13,
   "metadata": {},
   "outputs": [
    {
     "data": {
      "text/plain": [
       "'adbd376781ee47792a4d8ab8292ae4f91ad58452c5b5e295cb57b381fea4dd2f'"
      ]
     },
     "execution_count": 13,
     "metadata": {},
     "output_type": "execute_result"
    }
   ],
   "source": [
    "signature"
   ]
  }
 ],
 "metadata": {
  "kernelspec": {
   "display_name": "Python 3.9.7 ('base')",
   "language": "python",
   "name": "python3"
  },
  "language_info": {
   "codemirror_mode": {
    "name": "ipython",
    "version": 3
   },
   "file_extension": ".py",
   "mimetype": "text/x-python",
   "name": "python",
   "nbconvert_exporter": "python",
   "pygments_lexer": "ipython3",
   "version": "3.9.7"
  },
  "orig_nbformat": 4,
  "vscode": {
   "interpreter": {
    "hash": "d635fdc436b939cbe0996b4633c57cd1208478daf6c601d9c067bd6804a14255"
   }
  }
 },
 "nbformat": 4,
 "nbformat_minor": 2
}
